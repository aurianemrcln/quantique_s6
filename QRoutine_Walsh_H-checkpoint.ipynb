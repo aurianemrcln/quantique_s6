{
 "cells": [
  {
   "cell_type": "markdown",
   "metadata": {
    "qat-category": "1-Circuit generation in Python",
    "qat-summary": "1-Creation of an EPR pair using two qubits"
   },
   "source": [
    "# TD3 Partie 1 :  QRoutines Walsh Hadamard\n"
   ]
  },
  {
   "cell_type": "markdown",
   "metadata": {},
   "source": [
    "Le but de ce Notebook, est d'apprendre à écrire des QRoutines simples."
   ]
  },
  {
   "cell_type": "markdown",
   "metadata": {
    "collapsed": true
   },
   "source": [
    "## Création d'une QRoutine 2-Hadamard constantes"
   ]
  },
  {
   "cell_type": "markdown",
   "metadata": {},
   "source": [
    "Pour illustrer les QRoutines, nous allons créer une QRoutine simple qui applique deux portes d'Hadamard sur deux qubits différents, dans le but de créer les circuits suivants. "
   ]
  },
  {
   "cell_type": "markdown",
   "metadata": {},
   "source": [
    "<table><tr>\n",
    "<td> <img src=\"H2.PNG\"> </td>\n",
    "<td> <img src=\"H2-2.PNG\"> </td>\n",
    "<td> <img src=\"H2-3.PNG\"> </td>\n",
    "<td> <img src=\"H2-4.PNG\"> </td>\n",
    "</tr></table>"
   ]
  },
  {
   "cell_type": "markdown",
   "metadata": {},
   "source": [
    "Dans la cellule suivante, écrivez une QRoutine qui applique :\n",
    "\n",
    "+ une porte Hadamard à l'indice 0\n",
    "+ une deuxième porte d'Hadamard à l'indice 1"
   ]
  },
  {
   "cell_type": "code",
   "execution_count": null,
   "metadata": {},
   "outputs": [],
   "source": []
  },
  {
   "cell_type": "markdown",
   "metadata": {},
   "source": [
    "Vous pouvez afficher votre QRoutine en complétant la cellule suivante :"
   ]
  },
  {
   "cell_type": "code",
   "execution_count": null,
   "metadata": {},
   "outputs": [],
   "source": [
    "circ_QRoutine = function_name()\n",
    "\n",
    "%qatdisplay --svg circ_QRoutine"
   ]
  },
  {
   "cell_type": "markdown",
   "metadata": {},
   "source": [
    "En appelant la QRoutine que vous venez de créer : reproduisez les 4 circuits ci-dessus, dans les 4 cellules suivantes."
   ]
  },
  {
   "cell_type": "code",
   "execution_count": null,
   "metadata": {},
   "outputs": [],
   "source": []
  },
  {
   "cell_type": "code",
   "execution_count": null,
   "metadata": {},
   "outputs": [],
   "source": []
  },
  {
   "cell_type": "code",
   "execution_count": null,
   "metadata": {},
   "outputs": [],
   "source": []
  },
  {
   "cell_type": "code",
   "execution_count": null,
   "metadata": {},
   "outputs": [],
   "source": []
  },
  {
   "cell_type": "markdown",
   "metadata": {},
   "source": [
    "Maintenant, appelez deux fois votre QRoutine pour créer le circuit suivant :<img src=\"H2-W.PNG\">"
   ]
  },
  {
   "cell_type": "code",
   "execution_count": null,
   "metadata": {},
   "outputs": [],
   "source": []
  },
  {
   "cell_type": "markdown",
   "metadata": {},
   "source": [
    "Avec la QRoutine, nous avons réussi à réduire le nombre d'appels pour créer un tel circuit.\n",
    "\n",
    "Mais il serait préférable d'avoir une seule QRoutine que nous pouvons appeler une seule fois pour appliquer une porte d'Hadamard à n'importe quel **nombre de qubits**. C'est le but de la section suivante."
   ]
  },
  {
   "cell_type": "markdown",
   "metadata": {},
   "source": [
    "## Walsh Hadamard QRoutine"
   ]
  },
  {
   "cell_type": "markdown",
   "metadata": {},
   "source": [
    "Créez, dans la cellule suivante, la fonction : \n",
    "**(`def function_name(parameters):`)** \n",
    "avec un paramètre et qui retourn **(`return qroutine_name`)** une QRoutine qui applique **n** fois la portes d'Hadamard à **n**  qubits différents, avec une arité **n** :"
   ]
  },
  {
   "cell_type": "code",
   "execution_count": null,
   "metadata": {},
   "outputs": [],
   "source": []
  },
  {
   "cell_type": "markdown",
   "metadata": {},
   "source": [
    "Appelez la fonction précédemment une seule fois par circuit pour créer les circuits suivants :"
   ]
  },
  {
   "cell_type": "markdown",
   "metadata": {},
   "source": [
    "<table><tr>\n",
    "<td> <img src=\"Hn-1.PNG\"> </td>\n",
    "<td> <img src=\"Hn-2.PNG\"> </td>\n",
    "<td> <img src=\"Hn-4.PNG\"> </td>\n",
    "<td> <img src=\"Hn-3.PNG\"> </td>\n",
    "</tr></table>"
   ]
  },
  {
   "cell_type": "code",
   "execution_count": null,
   "metadata": {},
   "outputs": [],
   "source": []
  },
  {
   "cell_type": "code",
   "execution_count": null,
   "metadata": {},
   "outputs": [],
   "source": []
  },
  {
   "cell_type": "code",
   "execution_count": null,
   "metadata": {},
   "outputs": [],
   "source": []
  },
  {
   "cell_type": "code",
   "execution_count": null,
   "metadata": {},
   "outputs": [],
   "source": []
  }
 ],
 "metadata": {
  "kernelspec": {
   "display_name": "Python 3 (ipykernel)",
   "language": "python",
   "name": "python3"
  },
  "language_info": {
   "codemirror_mode": {
    "name": "ipython",
    "version": 3
   },
   "file_extension": ".py",
   "mimetype": "text/x-python",
   "name": "python",
   "nbconvert_exporter": "python",
   "pygments_lexer": "ipython3",
   "version": "3.9.12"
  }
 },
 "nbformat": 4,
 "nbformat_minor": 1
}
