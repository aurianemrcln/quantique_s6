{
 "cells": [
  {
   "cell_type": "markdown",
   "metadata": {
    "qat-category": "1-Circuit generation in Python",
    "qat-summary": "1-Creation of an EPR pair using two qubits"
   },
   "source": [
    "# TD1 : Helloworld Quantique\n",
    "\n",
    "\n",
    "Le but de ce Notebook est de créer notre premier programme quantique en pyAQASM.\n",
    "\n",
    "\n",
    "Les principales fonctionnalités pour créer un programme quantique sont:\n",
    "\n",
    "+ créer un objet programme \n",
    "+ allouer un registre de qubits\n",
    "+ appliquer des portes quantiques\n",
    "+ générer un circuit à partir du programme\n",
    "+ créer un job\n",
    "+ soumettre le job\n",
    "\n",
    "\n",
    "\n",
    "Nous allons créer une porte **Hadamard**, et nous allons le faire étape par étape. \n",
    "Le circuit ressemblera à l'image ci-dessous :\n",
    "\n",
    "<table>\n",
    "    <tr><td>\n",
    "        <img src=\"H.png\" width=\"33%\"></td>\n",
    "    </tr>\n",
    "</table>\n"
   ]
  },
  {
   "cell_type": "markdown",
   "metadata": {},
   "source": [
    "## Première étape : création d'un programme\n",
    "\n",
    "Pour créer un circuit quantique avec myQLM, la première étape consiste à créer une variable qui contiendra le programme.\n",
    "\n",
    "Cette première étape peut se faire de cette façon :\n",
    "\n",
    "+ importer la fonction **from qat.lang.AQASM**\n",
    "\n",
    "Complétez la cellule suivante pour tout importer de qat.lang.AQASM:"
   ]
  },
  {
   "cell_type": "code",
   "execution_count": 1,
   "metadata": {},
   "outputs": [
    {
     "ename": "ModuleNotFoundError",
     "evalue": "No module named 'qat'",
     "output_type": "error",
     "traceback": [
      "\u001b[1;31m---------------------------------------------------------------------------\u001b[0m",
      "\u001b[1;31mModuleNotFoundError\u001b[0m                       Traceback (most recent call last)",
      "\u001b[1;32m~\\AppData\\Local\\Temp\\ipykernel_16212\\1067659167.py\u001b[0m in \u001b[0;36m<module>\u001b[1;34m\u001b[0m\n\u001b[1;32m----> 1\u001b[1;33m \u001b[1;32mfrom\u001b[0m \u001b[0mqat\u001b[0m\u001b[1;33m.\u001b[0m\u001b[0mlang\u001b[0m\u001b[1;33m.\u001b[0m\u001b[0mAQASM\u001b[0m \u001b[1;32mimport\u001b[0m \u001b[1;33m*\u001b[0m\u001b[1;33m\u001b[0m\u001b[1;33m\u001b[0m\u001b[0m\n\u001b[0m",
      "\u001b[1;31mModuleNotFoundError\u001b[0m: No module named 'qat'"
     ]
    }
   ],
   "source": [
    "from qat.lang.AQASM import *"
   ]
  },
  {
   "cell_type": "markdown",
   "metadata": {},
   "source": [
    "Une fois cette étape effectuée, nous pouvons créer l'objet programme.\n",
    "\n",
    "Pour ce faire, vous avez besoin de :\n",
    "+ définir un nom pour la variable de votre programme\n",
    "+ appeler depuis la bibliothèque **AQASM** le constructeur de programme\n",
    "\n",
    "Complétez la cellule suivante avec :\n",
    "\n",
    "+ un nom pour le  programme\n",
    "+ le nom du constructeur"
   ]
  },
  {
   "cell_type": "code",
   "execution_count": null,
   "metadata": {},
   "outputs": [],
   "source": [
    "XXX = XXX()"
   ]
  },
  {
   "cell_type": "markdown",
   "metadata": {},
   "source": [
    "Nous avons maintenant une variable qui pourra contenir le programme que nous allons implémenter. Nous verrons dans la partie suivante comment allouer les qubits."
   ]
  },
  {
   "cell_type": "markdown",
   "metadata": {},
   "source": [
    "## deuxième étape : Allouer des qubits\n",
    "\n",
    "<table>\n",
    "    <tr><td>\n",
    "        <img src=\"H.png\" width=\"33%\"></td>\n",
    "    </tr>\n",
    "</table>\n",
    "\n",
    "Pour notre exemple, nous devons allouer un seul qubit dans notre programme.\n",
    "\n",
    "Nous allons :\n",
    "\n",
    "+ définir le nom de notre registre de qubits\n",
    "+ appeler la fonction **qalloc** sur notre programme\n",
    "+ définir le nombre de qubits que nous voulons\n",
    "\n",
    "Remplissez la cellule suivante pour créer un qubit :"
   ]
  },
  {
   "cell_type": "code",
   "execution_count": null,
   "metadata": {},
   "outputs": [],
   "source": []
  },
  {
   "cell_type": "markdown",
   "metadata": {},
   "source": [
    "## Troisième étape : Application des portes quantiques"
   ]
  },
  {
   "cell_type": "markdown",
   "metadata": {},
   "source": [
    "Maintenant, nous pouvons avoir accès aux qubits en utilisant le nom du registre.\n",
    "\n",
    "Les registres se comportent comme les listes/tableaux en Python, par exemple si vous avez nommé votre registre QUBIT_REGISTER :\n",
    "\n",
    "+ QUBIT_REGISTER[0] est un qubit.\n",
    "\n",
    "Pour créer la porte Hadamard, il suffit d'appliquer la porte appropriée :\n",
    "+ la porte Hadamard (H)\n",
    "\n",
    "Appliquons la porte Hadamard sur notre qubit.\n",
    "Pour ce faire, nous devons :\n",
    "\n",
    "+ préciser sur quel programme nous souhaitons appliquer la porte\n",
    "+ préciser la porte que nous souhaitons appliquer\n",
    "+ préciser le nom du registre de qubits auquel nous souhaitons appliquer la porte\n",
    "+ spécifier l'index du qubit à l'intérieur du registre\n",
    "\n",
    "\n",
    "Remplissez la cellule suivante :"
   ]
  },
  {
   "cell_type": "code",
   "execution_count": null,
   "metadata": {},
   "outputs": [],
   "source": []
  },
  {
   "cell_type": "markdown",
   "metadata": {},
   "source": [
    "## Quatrième étape : créer et visualiser le circuit\n",
    "\n",
    "Une fois qu'un programme est créé, il est possible de générer le circuit à partir de celui-ci.\n",
    "\n",
    "Un circuit peut donc être :\n",
    "+ exécuté\n",
    "+ optimisé\n",
    "+ utilisé pour créer d'autres circuits\n",
    "\n",
    "Pour créer le circuit, vous devrez :\n",
    "+ définir le nom de votre circuit\n",
    "+ appliquer la fonction <i>to_circ</i> à votre programme\n",
    "\n",
    "Veuillez remplir la cellule suivante :"
   ]
  },
  {
   "cell_type": "code",
   "execution_count": null,
   "metadata": {},
   "outputs": [],
   "source": []
  },
  {
   "cell_type": "markdown",
   "metadata": {},
   "source": [
    "Maintenant que nous avons un bon circuit, nous pouvons le visualiser en utilisant :\n",
    "+ %qatdisplay --svg CIRCUIT_NAME\n",
    "\n",
    "Essayez ceci dans la cellule suivante :"
   ]
  },
  {
   "cell_type": "code",
   "execution_count": null,
   "metadata": {},
   "outputs": [],
   "source": [
    "%qatdisplay --svg circuit"
   ]
  },
  {
   "cell_type": "markdown",
   "metadata": {},
   "source": [
    "La visualisation du circuit est un outil utile pour vérifier rapidement si la mise en place d'un programme s'est bien déroulée."
   ]
  },
  {
   "cell_type": "markdown",
   "metadata": {},
   "source": [
    "## Cinquième étape : exécuter le circuit"
   ]
  },
  {
   "cell_type": "markdown",
   "metadata": {},
   "source": [
    "### Répartition complète"
   ]
  },
  {
   "cell_type": "markdown",
   "metadata": {},
   "source": [
    "Les étapes que nous venons de faire nous ont donné un circuit.\n",
    "\n",
    "Nous devons maintenant créer un job à partir de ce circuit en utilisant la fonction <i>to_job</i> sur notre circuit.\n",
    "\n",
    "Utilisez la cellule suivante pour obtenir plus d'informations sur la fonction <i>to_job</i>.\n"
   ]
  },
  {
   "cell_type": "code",
   "execution_count": null,
   "metadata": {},
   "outputs": [],
   "source": [
    "help(XXX.to_job)"
   ]
  },
  {
   "cell_type": "markdown",
   "metadata": {},
   "source": [
    "Pour créer un job, nous devons :\n",
    "+ définir le nom de notre job\n",
    "+ appeler la fonction <i>to_job()</i> sur le circuit\n",
    "\n",
    "Nous appellerons <i>to_job</i> sans aucun paramètre pour cette première fois."
   ]
  },
  {
   "cell_type": "code",
   "execution_count": null,
   "metadata": {},
   "outputs": [],
   "source": []
  },
  {
   "cell_type": "markdown",
   "metadata": {},
   "source": [
    "Pour cette première fois avec myQLM nous allons utiliser la simulation par défaut.\n",
    "\n",
    "Pour faire une simulation avec notre job en utilisant myQLM, nous devons le soumettre à un QPU.\n",
    "\n",
    "Pour ce faire, nous devons d'abord :\n",
    "\n",
    "+ importer la fonction **PyLinalg** depuis **qat.qpus**\n",
    "+ créer un qpu en appelant **PyLinalg()**"
   ]
  },
  {
   "cell_type": "code",
   "execution_count": null,
   "metadata": {},
   "outputs": [],
   "source": []
  },
  {
   "cell_type": "markdown",
   "metadata": {},
   "source": [
    "Nous pouvons maintenant soumettre le job à notre simulateur.\n",
    "\n",
    "Pour ce faire, nous devons utiliser la fonction <i>submit</i> sur notre qpu et passer notre job en paramètre :"
   ]
  },
  {
   "cell_type": "code",
   "execution_count": 1,
   "metadata": {
    "scrolled": true
   },
   "outputs": [
    {
     "ename": "NameError",
     "evalue": "name 'XXX' is not defined",
     "output_type": "error",
     "traceback": [
      "\u001b[1;31m---------------------------------------------------------------------------\u001b[0m",
      "\u001b[1;31mNameError\u001b[0m                                 Traceback (most recent call last)",
      "Cell \u001b[1;32mIn [1], line 1\u001b[0m\n\u001b[1;32m----> 1\u001b[0m result \u001b[38;5;241m=\u001b[39m \u001b[43mXXX\u001b[49m\u001b[38;5;241m.\u001b[39msubmit(XXX)\n",
      "\u001b[1;31mNameError\u001b[0m: name 'XXX' is not defined"
     ]
    }
   ],
   "source": [
    "result = XXX.submit(XXX)"
   ]
  },
  {
   "cell_type": "markdown",
   "metadata": {},
   "source": [
    "nous pouvons maintenant afficher les résultats :"
   ]
  },
  {
   "cell_type": "code",
   "execution_count": null,
   "metadata": {},
   "outputs": [],
   "source": [
    "for sample in result:\n",
    "    print(\"State %s amplitude %s\" % (sample.state, sample.amplitude))"
   ]
  },
  {
   "cell_type": "markdown",
   "metadata": {},
   "source": [
    "C'est la première façon de créer un job : sans aucun paramètre (cas par défaut).\n",
    "Nous avons accès à tous les états non nuls avec l'information sur l'amplitude."
   ]
  },
  {
   "cell_type": "markdown",
   "metadata": {},
   "source": [
    "###  Simulateur strict"
   ]
  },
  {
   "cell_type": "markdown",
   "metadata": {},
   "source": [
    "La deuxième façon est de simuler strictement un **qpu**. Pour cela il faut spécifier l'option **nbshots**  strictement supérieur à 0. \n",
    "\n",
    "Fixer la valeur de nbshots entre 10 et 100 dans la cellule suivante :"
   ]
  },
  {
   "cell_type": "code",
   "execution_count": 1,
   "metadata": {},
   "outputs": [
    {
     "ename": "NameError",
     "evalue": "name 'circuit' is not defined",
     "output_type": "error",
     "traceback": [
      "\u001b[1;31m---------------------------------------------------------------------------\u001b[0m",
      "\u001b[1;31mNameError\u001b[0m                                 Traceback (most recent call last)",
      "Cell \u001b[1;32mIn [1], line 2\u001b[0m\n\u001b[0;32m      1\u001b[0m \u001b[38;5;66;03m# Create a job where we specify the number of shots\u001b[39;00m\n\u001b[1;32m----> 2\u001b[0m job \u001b[38;5;241m=\u001b[39m \u001b[43mcircuit\u001b[49m\u001b[38;5;241m.\u001b[39mto_job(XXX\u001b[38;5;241m=\u001b[39mXXX)\n",
      "\u001b[1;31mNameError\u001b[0m: name 'circuit' is not defined"
     ]
    }
   ],
   "source": [
    "# Create a job where we specify the number of shots\n",
    "job = circuit.to_job(XXX=XXX)"
   ]
  },
  {
   "cell_type": "markdown",
   "metadata": {},
   "source": [
    "De la même manière que précédemment nous pouvons soumettre le job à un simulateur :"
   ]
  },
  {
   "cell_type": "code",
   "execution_count": null,
   "metadata": {},
   "outputs": [],
   "source": [
    "# Submit to the QPU\n",
    "result = XXX.XXX(XXX)"
   ]
  },
  {
   "cell_type": "markdown",
   "metadata": {},
   "source": [
    "Et maintenant imprimez les résultats :"
   ]
  },
  {
   "cell_type": "code",
   "execution_count": null,
   "metadata": {
    "scrolled": true
   },
   "outputs": [],
   "source": [
    "for sample in result:\n",
    "    print(\"Nous avons mesuré l'état {} (sa probabilité est {} et son amplitude {})\".format(sample.state, sample.probability, sample.amplitude))"
   ]
  },
  {
   "cell_type": "markdown",
   "metadata": {},
   "source": [
    "Tout d'abord, comme vous pouvez le voir, l'amplitude est à None car nous simulons strictement le comportement d'un QPU (mesure, sans aucune information sur l'amplitude).\n",
    "\n",
    "Pour la simulation par défaut, les résultats sont agrégés. Cela signifie que si nous lançons 10 fois  l'exécution (nbshots=10) de notre circuit, les résultats seront agrégés de telle sorte à obtenir une estimation de la probabilité d'obtenir un état possible donné.\n",
    "\n",
    "Remarque : vous pouvez exécuter plusieurs fois les deux cellules précédentes et vous obtiendrez un nouveau résultat pseudo-aléatoire à chaque fois."
   ]
  },
  {
   "cell_type": "markdown",
   "metadata": {},
   "source": [
    " "
   ]
  },
  {
   "cell_type": "markdown",
   "metadata": {},
   "source": [
    "Il est possible de créer un job sans agrégation **(aggregate_data=False)** les résultats :"
   ]
  },
  {
   "cell_type": "code",
   "execution_count": null,
   "metadata": {},
   "outputs": [],
   "source": [
    "# Create a job where we specify the number of shots\n",
    "job = circuit.to_job(nbshots=10, XXX=XXX)"
   ]
  },
  {
   "cell_type": "code",
   "execution_count": null,
   "metadata": {},
   "outputs": [],
   "source": [
    "# Submit to the QPU\n",
    "result = XXX.XXX(XXX)"
   ]
  },
  {
   "cell_type": "code",
   "execution_count": null,
   "metadata": {},
   "outputs": [],
   "source": [
    "# And use it to draw 10 samples\n",
    "for sample in result:\n",
    "    print(\"Nous avons mesuré l'état {}\".format(sample.state))"
   ]
  },
  {
   "cell_type": "markdown",
   "metadata": {},
   "source": [
    "Comme vous pouvez le voir, les seules informations que nous obtenons sont les états de chaque exécution."
   ]
  },
  {
   "cell_type": "markdown",
   "metadata": {
    "collapsed": true
   },
   "source": [
    "Nous avons vu comment :\n",
    "+ créer un programme\n",
    "+ allouer un registre de qubits\n",
    "+ appliquer des portes quantiques \n",
    "+ générer un circuit\n",
    "+ créer un job (distribution complète, simulation stricte, données agrégées)\n",
    "+ soumettre un job\n"
   ]
  },
  {
   "cell_type": "markdown",
   "metadata": {},
   "source": [
    "# Pour aller plus loin"
   ]
  },
  {
   "cell_type": "markdown",
   "metadata": {},
   "source": [
    "À l'aide de myQLM, créez et simulez le circuit suivant :\n",
    "<table>\n",
    "    <tr><td>\n",
    "        <img src=\"epr.png\" width=\"50%\"></td>\n",
    "    </tr>\n",
    "</table>"
   ]
  },
  {
   "cell_type": "code",
   "execution_count": null,
   "metadata": {},
   "outputs": [],
   "source": []
  },
  {
   "cell_type": "code",
   "execution_count": null,
   "metadata": {},
   "outputs": [],
   "source": []
  },
  {
   "cell_type": "code",
   "execution_count": null,
   "metadata": {},
   "outputs": [],
   "source": []
  }
 ],
 "metadata": {
  "kernelspec": {
   "display_name": "Python 3 (ipykernel)",
   "language": "python",
   "name": "python3"
  },
  "language_info": {
   "codemirror_mode": {
    "name": "ipython",
    "version": 3
   },
   "file_extension": ".py",
   "mimetype": "text/x-python",
   "name": "python",
   "nbconvert_exporter": "python",
   "pygments_lexer": "ipython3",
   "version": "3.9.13"
  }
 },
 "nbformat": 4,
 "nbformat_minor": 1
}
