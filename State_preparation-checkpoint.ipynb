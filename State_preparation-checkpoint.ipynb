{
 "cells": [
  {
   "cell_type": "markdown",
   "metadata": {
    "qat-category": "1-Circuit generation in Python",
    "qat-summary": "1-Creation of an EPR pair using two qubits"
   },
   "source": [
    "#  TD2_Partie 2 : Préparation d'état\n",
    "\n"
   ]
  },
  {
   "cell_type": "markdown",
   "metadata": {},
   "source": [
    "L'objectif de ce Notebook, est d'appliquer ce que nous avons vu jusqu'à présent et de rappeler quelques bases. \n"
   ]
  },
  {
   "cell_type": "markdown",
   "metadata": {},
   "source": [
    "## Représentation entière"
   ]
  },
  {
   "cell_type": "markdown",
   "metadata": {},
   "source": [
    "Un registre de bits peut être utilisé pour représenter des nombres entiers. La même chose peut être faite avec un registre de qubits."
   ]
  },
  {
   "cell_type": "markdown",
   "metadata": {},
   "source": [
    "Avec myQLM, nous pouvons accéder facilement aux deux représentations entières, le bit le moins significatif (LSB) et le bit le plus significatif (MSB)."
   ]
  },
  {
   "cell_type": "markdown",
   "metadata": {},
   "source": [
    "Nous devons d'abord commander nos qubits :\n",
    "\n",
    " $$|\\psi> = |q_0 q_1 q_2 q_3 ...> $$\n",
    " \n",
    "Dans myQLM, le premier qubit est la première sortie. Dans l'exemple ci-dessus, $q_0$ représente le premier qubit de notre état.\n",
    "\n",
    "A partir de là, la chaîne de bits que nous obtiendrons après une mesure peut-être interprétée comme un entier en utilisant soit le formalisme LSB :\n",
    "\n",
    "$$ \\sum_{n=0}^{N-1} q_i 2^{i} $$\n",
    "\n",
    "Ou en formalisme MSB :\n",
    "\n",
    "$$ \\sum_{n=0}^{N-1} q_i 2^{N-1-i} $$\n",
    "\n",
    "+ Dans le formalisme LSB, $q_0$ détient la plus petite puissance de 2 : $2^0.\n",
    "\n",
    "+ Dans le formalisme MSB, $q_0$ détient la puissance la plus élevée de 2: $2^{N-1}$."
   ]
  },
  {
   "cell_type": "markdown",
   "metadata": {},
   "source": [
    "Pour le rendre concret, nous allons créer le circuit suivant :\n",
    "<table>\n",
    "    <tr><td>\n",
    "        <img src=\"4-2X.png\"></td>\n",
    "    </tr>\n",
    "</table>"
   ]
  },
  {
   "cell_type": "code",
   "execution_count": null,
   "metadata": {},
   "outputs": [],
   "source": []
  },
  {
   "cell_type": "markdown",
   "metadata": {},
   "source": [
    "Ce circuit produira l'état |0100> avec une probabilité de 100 %. Exécutez une simulation pour confirmer cela et utilisez **.int** et **.lsb_int** pour afficher les valeurs entières associées au formalisme MSB et LSB de cet état."
   ]
  },
  {
   "cell_type": "code",
   "execution_count": null,
   "metadata": {},
   "outputs": [],
   "source": []
  },
  {
   "cell_type": "markdown",
   "metadata": {},
   "source": [
    "Créez un circuit pour obtenir 5 dans le formalisme LSB avec 4 qubits."
   ]
  },
  {
   "cell_type": "code",
   "execution_count": null,
   "metadata": {},
   "outputs": [],
   "source": []
  },
  {
   "cell_type": "markdown",
   "metadata": {},
   "source": [
    "Créez un circuit pour obtenir 5 en formalisme MSB avec 4 qubits."
   ]
  },
  {
   "cell_type": "code",
   "execution_count": null,
   "metadata": {},
   "outputs": [],
   "source": []
  },
  {
   "cell_type": "markdown",
   "metadata": {},
   "source": [
    "Créez un circuit pour obtenir : \n",
    "+ 0 avec $\\frac{1}{\\sqrt{2}}$ amplitude de probabilité  \n",
    "+ 1 avec $\\frac{1}{\\sqrt{2}}$ amplitude de probabilité\n",
    "\n",
    "en utilisant 4 qubits dans le formalisme que vous préférez."
   ]
  },
  {
   "cell_type": "code",
   "execution_count": null,
   "metadata": {},
   "outputs": [],
   "source": []
  },
  {
   "cell_type": "markdown",
   "metadata": {},
   "source": [
    "Créez un circuit pour obtenir 0 avec une amplitude de probabilité $\\frac{1}{\\sqrt{2}}$ et 1 avec une amplitude de probabilité $\\frac{-1}{\\sqrt{2}}$ en utilisant 4 qubits."
   ]
  },
  {
   "cell_type": "code",
   "execution_count": null,
   "metadata": {},
   "outputs": [],
   "source": []
  },
  {
   "cell_type": "markdown",
   "metadata": {},
   "source": [
    "Créez un circuit pour obtenir 0 avec une amplitude de probabilité $\\frac{1}{\\sqrt{2}}$ et 1 avec une amplitude de probabilité $\\frac{i}{\\sqrt{2}}$ en utilisant 4 qubits."
   ]
  },
  {
   "cell_type": "code",
   "execution_count": null,
   "metadata": {},
   "outputs": [],
   "source": []
  },
  {
   "cell_type": "markdown",
   "metadata": {},
   "source": [
    "Créez un circuit pour obtenir 0 avec une amplitude de probabilité $\\frac{1}{\\sqrt{2}}$ et 1 avec une amplitude de probabilité $\\frac{-i}{\\sqrt{2}}$ en utilisant 4 qubits."
   ]
  },
  {
   "cell_type": "code",
   "execution_count": null,
   "metadata": {},
   "outputs": [],
   "source": []
  },
  {
   "cell_type": "code",
   "execution_count": null,
   "metadata": {},
   "outputs": [],
   "source": []
  }
 ],
 "metadata": {
  "kernelspec": {
   "display_name": "Python 3 (ipykernel)",
   "language": "python",
   "name": "python3"
  },
  "language_info": {
   "codemirror_mode": {
    "name": "ipython",
    "version": 3
   },
   "file_extension": ".py",
   "mimetype": "text/x-python",
   "name": "python",
   "nbconvert_exporter": "python",
   "pygments_lexer": "ipython3",
   "version": "3.9.12"
  }
 },
 "nbformat": 4,
 "nbformat_minor": 1
}
